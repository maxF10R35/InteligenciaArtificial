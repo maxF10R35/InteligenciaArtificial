{
  "nbformat": 4,
  "nbformat_minor": 0,
  "metadata": {
    "colab": {
      "provenance": [],
      "collapsed_sections": [
        "NIZ363FhPrsP",
        "Lm82zACHaguj",
        "mZTHrF2FeHc_"
      ],
      "authorship_tag": "ABX9TyPo9zcU/cjWhEuEs1bwbG6u",
      "include_colab_link": true
    },
    "kernelspec": {
      "name": "python3",
      "display_name": "Python 3"
    },
    "language_info": {
      "name": "python"
    }
  },
  "cells": [
    {
      "cell_type": "markdown",
      "metadata": {
        "id": "view-in-github",
        "colab_type": "text"
      },
      "source": [
        "<a href=\"https://colab.research.google.com/github/maxF10R35/InteligenciaArtificial/blob/main/neuronas_mcCullock_pits.ipynb\" target=\"_parent\"><img src=\"https://colab.research.google.com/assets/colab-badge.svg\" alt=\"Open In Colab\"/></a>"
      ]
    },
    {
      "cell_type": "markdown",
      "source": [
        "# Neurona AND"
      ],
      "metadata": {
        "id": "NIZ363FhPrsP"
      }
    },
    {
      "cell_type": "code",
      "source": [
        "#Estructura AND\n",
        "'''\n",
        "p  q   pyq  (pw1 + qw2)\n",
        "0  0    0       0\n",
        "0  1    0       1\n",
        "1  0    0       1\n",
        "1  1    1       2\n",
        "'''\n",
        "w1 = 1\n",
        "w2 = 1\n",
        "# pyq == 1 si y solo si (pw1 + pw2) == 2\n",
        "\n",
        "'''\n",
        "funcion humbral = 0 si (pw1 + pw2) < 2\n",
        "funcion humbral = 1 si (pw1 + pw2) >= 2\n",
        "--> humbral = 2\n",
        "\n",
        "'''\n",
        "# En resumen\n",
        "\n",
        "weights = [1,1]\n",
        "humbral = 2"
      ],
      "metadata": {
        "id": "QP8bNqn_PvYe"
      },
      "execution_count": null,
      "outputs": []
    },
    {
      "cell_type": "code",
      "source": [
        "# Numpy matrices\n",
        "import numpy as np\n",
        "\n",
        "A = np.array([[0,0],[0,1],[1,0],[1,1]])\n",
        "print(A)\n",
        "\n",
        "# A es la matríz que contiene todas las posiblescombinaciones de las entradas p, q"
      ],
      "metadata": {
        "colab": {
          "base_uri": "https://localhost:8080/"
        },
        "id": "Yno5ZJwtRzND",
        "outputId": "0d89fb11-7d81-4b7c-f3bf-ff44bac4967f"
      },
      "execution_count": null,
      "outputs": [
        {
          "output_type": "stream",
          "name": "stdout",
          "text": [
            "[[0 0]\n",
            " [0 1]\n",
            " [1 0]\n",
            " [1 1]]\n"
          ]
        }
      ]
    },
    {
      "cell_type": "code",
      "source": [
        "for i in A:\n",
        "  print(i[1])"
      ],
      "metadata": {
        "colab": {
          "base_uri": "https://localhost:8080/"
        },
        "id": "lU6PrRcAS80F",
        "outputId": "844b806c-f65d-4ba3-c095-33881a0dd86b"
      },
      "execution_count": null,
      "outputs": [
        {
          "output_type": "stream",
          "name": "stdout",
          "text": [
            "0\n",
            "1\n",
            "0\n",
            "1\n"
          ]
        }
      ]
    },
    {
      "cell_type": "code",
      "source": [
        "class NeuronaAnd:\n",
        "  def __init__(self,weights,humbral):\n",
        "    self.weights = weights\n",
        "    self.humbral = humbral\n",
        "\n",
        "  def prediccion(self, x):\n",
        "    for i in x:\n",
        "      if np.dot(i,self.weights) >= self.humbral:\n",
        "        print(1)\n",
        "      else:\n",
        "        print(0)"
      ],
      "metadata": {
        "id": "msANLg99SgPU"
      },
      "execution_count": null,
      "outputs": []
    },
    {
      "cell_type": "code",
      "source": [
        "neurona1 = NeuronaAnd(weights,humbral)\n",
        "neurona1.prediccion(A)\n"
      ],
      "metadata": {
        "colab": {
          "base_uri": "https://localhost:8080/"
        },
        "id": "BBXhMmtOWhfT",
        "outputId": "edc51205-5799-4a12-bda4-1b5791b8a3ff"
      },
      "execution_count": null,
      "outputs": [
        {
          "output_type": "stream",
          "name": "stdout",
          "text": [
            "0\n",
            "0\n",
            "0\n",
            "1\n"
          ]
        }
      ]
    },
    {
      "cell_type": "markdown",
      "source": [
        "# Neurona OR"
      ],
      "metadata": {
        "id": "Lm82zACHaguj"
      }
    },
    {
      "cell_type": "code",
      "source": [
        "# Función OR\n",
        "'''\n",
        "si w1 = 1 y w2 = 1\n",
        "p  q   pyq  (pw1 + pw2)\n",
        "0  0    0       0\n",
        "0  1    1       1\n",
        "1  0    1       1\n",
        "1  1    1       2\n",
        "\n",
        "humbral = 1, if (pw1 + pw2) >= 1\n",
        "humbral = 0, if (pw1 + pw2) < 1\n",
        "'''\n",
        "wheights2 = [1,1]\n",
        "humbral2 = 1"
      ],
      "metadata": {
        "id": "gLpqcuI3a7rh"
      },
      "execution_count": null,
      "outputs": []
    },
    {
      "cell_type": "code",
      "source": [
        "B = np.array([[0,0],[0,1],[1,0],[1,1]])\n",
        "print(B)"
      ],
      "metadata": {
        "colab": {
          "base_uri": "https://localhost:8080/"
        },
        "id": "spmwa-elbmDV",
        "outputId": "3a41d1d7-0394-46b7-e585-54ff73ee1490"
      },
      "execution_count": null,
      "outputs": [
        {
          "output_type": "stream",
          "name": "stdout",
          "text": [
            "[[0 0]\n",
            " [0 1]\n",
            " [1 0]\n",
            " [1 1]]\n"
          ]
        }
      ]
    },
    {
      "cell_type": "code",
      "source": [
        "class NeuronaOr:\n",
        "  def __init__(self,weights,humbral):\n",
        "    self.weights = weights\n",
        "    self.humbral = humbral\n",
        "\n",
        "  def prediccion(self, x):\n",
        "    for i in x:\n",
        "      if np.dot(i,self.weights) >= self.humbral:\n",
        "        print(1)\n",
        "      else:\n",
        "        print(0)"
      ],
      "metadata": {
        "id": "_dH_CupWbpRD"
      },
      "execution_count": null,
      "outputs": []
    },
    {
      "cell_type": "code",
      "source": [
        "neurona2 = NeuronaOr(wheights2,humbral2)\n",
        "neurona2.prediccion(B)"
      ],
      "metadata": {
        "colab": {
          "base_uri": "https://localhost:8080/"
        },
        "id": "R3uzibKfb46k",
        "outputId": "0f701723-8eb7-432d-f983-e9b72fea60a0"
      },
      "execution_count": null,
      "outputs": [
        {
          "output_type": "stream",
          "name": "stdout",
          "text": [
            "0\n",
            "1\n",
            "1\n",
            "1\n"
          ]
        }
      ]
    },
    {
      "cell_type": "markdown",
      "source": [
        "# Neurona Implicación p --> q"
      ],
      "metadata": {
        "id": "mZTHrF2FeHc_"
      }
    },
    {
      "cell_type": "code",
      "source": [
        "# Función implicación\n",
        "'''\n",
        "si w1 = 2 y w2 = 1\n",
        "p  q   p -> q  (pw1 + pw2)\n",
        "0  0      1       0\n",
        "0  1      1       1\n",
        "1  0      0       2\n",
        "1  1      1       3\n",
        "\n",
        "humbral = 1, if (pw1 + pw2) >= 1\n",
        "humbral = 0, if (pw1 + pw2) < 1\n",
        "'''\n",
        "wheights3 = [2,1]\n",
        "humbral3 = 2"
      ],
      "metadata": {
        "id": "aJqQghX7eOl5"
      },
      "execution_count": null,
      "outputs": []
    },
    {
      "cell_type": "code",
      "source": [
        "import numpy as np\n",
        "C = np.array([[0,0],[0,1],[1,0],[1,1]])\n",
        "print(C)"
      ],
      "metadata": {
        "colab": {
          "base_uri": "https://localhost:8080/"
        },
        "id": "VxEL-fh9fvfT",
        "outputId": "1e888349-e2a3-4d10-e442-355f57ba173a"
      },
      "execution_count": null,
      "outputs": [
        {
          "output_type": "stream",
          "name": "stdout",
          "text": [
            "[[0 0]\n",
            " [0 1]\n",
            " [1 0]\n",
            " [1 1]]\n"
          ]
        }
      ]
    },
    {
      "cell_type": "code",
      "source": [
        "class Neuronaimp:\n",
        "  def __init__(self,weights,humbral):\n",
        "    self.weights = weights\n",
        "    self.humbral = humbral\n",
        "\n",
        "  def prediccion(self, x):\n",
        "    for i in x:\n",
        "      if np.dot(i,self.weights) == self.humbral:\n",
        "        print(0)\n",
        "      else:\n",
        "        print(1)"
      ],
      "metadata": {
        "id": "US3c-Z6XgNCE"
      },
      "execution_count": null,
      "outputs": []
    },
    {
      "cell_type": "code",
      "source": [
        "neurona3 = Neuronaimp(wheights3, humbral3)\n",
        "neurona3.prediccion(C)"
      ],
      "metadata": {
        "colab": {
          "base_uri": "https://localhost:8080/"
        },
        "id": "wZHWbg_ngevc",
        "outputId": "0302a087-c568-422b-fa30-70154ad280aa"
      },
      "execution_count": null,
      "outputs": [
        {
          "output_type": "stream",
          "name": "stdout",
          "text": [
            "1\n",
            "1\n",
            "0\n",
            "1\n"
          ]
        }
      ]
    }
  ]
}